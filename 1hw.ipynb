{
  "nbformat": 4,
  "nbformat_minor": 0,
  "metadata": {
    "colab": {
      "provenance": []
    },
    "kernelspec": {
      "name": "python3",
      "display_name": "Python 3"
    },
    "language_info": {
      "name": "python"
    }
  },
  "cells": [
    {
      "cell_type": "markdown",
      "source": [
        "Условный оператор if-elif-else\n",
        "В Вышке научились измерять душевную боль... (Это правда: Источник)\n",
        "\n",
        "Давайте тоже предложим свою шкалу!\n",
        "\n",
        "В ячейке ниже - код \"определителя душевной боли\" от 1 до 10. Давайте его улучшим:\n",
        "\n",
        "-добавьте условие для случаев, если пользователь вводит число больше 10\n",
        "\n",
        "-добавьте еще два условия, чтобы разделение на категории душевной боли было еще точнее\n",
        "\n",
        "-добавьте к вещественным числам примеры, чтобы пользователю было легче оценить свою душевную боль (например, шкала от утреннего кофе, пролитого на рубашку, до студента на сессии...)\n",
        "\n",
        "Подсказка: будет легче, если нарисовать себе схему условий на бумаге"
      ],
      "metadata": {
        "id": "Fp36i4lu1T9L"
      }
    },
    {
      "cell_type": "code",
      "source": [
        "# определитель душевной боли\n",
        "\n",
        "a = float(input('Оцените силу вашей душевной боли по шкале от 0 до 10: '))\n",
        "if a < 0.7:\n",
        "    print('Кажется, вы испытываете легкое огорчение. Как человек в короткой поездке в метро, забывший дома наушники')\n",
        "elif 0.7 <= a <= 4.2:\n",
        "    print('Вы встревожены - почти как человек, которому придется звонить по телефону, и это в эпоху мессенджеров! То самое чувство, когда начинаете нервно репетировать в голове диалог...')\n",
        "elif 4.3 <= a <= 6.7:\n",
        "  print('Напомните, вы выключили утюг?')\n",
        "elif 6.8 <= a <= 8: \n",
        "  print('Это все ретроградный Меркурий')\n",
        "elif 9 <= a <= 10: \n",
        "  print('Вам необходим раф')\n",
        "elif a > 10:\n",
        "  print('Послушайте Адель')\n",
        "\n",
        "# продолжите программу дальше\n",
        "# примеры и значения выше можно заменить на ваши"
      ],
      "metadata": {
        "id": "FPv1ixGT1Lll",
        "colab": {
          "base_uri": "https://localhost:8080/"
        },
        "outputId": "c3f9a893-57ae-424c-9afa-e566f20e2b5a"
      },
      "execution_count": null,
      "outputs": [
        {
          "output_type": "stream",
          "name": "stdout",
          "text": [
            "Оцените силу вашей душевной боли по шкале от 0 до 10: 9\n",
            "Вам необходим раф\n"
          ]
        }
      ]
    },
    {
      "cell_type": "markdown",
      "source": [
        "Поработаем с шуточными предсказаниями для абитуриентов, студентов, слушателей курсов, сотрудников и всех-всех, связанных с Вышкой. За основу предсказаний взяты:\n",
        "\n",
        "генератор новогодний обещаний 2020\n",
        "tg bot Вышкинская ворона (в данный момент отключен, но могу поделиться идеей и кодом, автор: Т. Конюхова, 2 курс)\n",
        "В hse_prediction должны храниться короткие предсказания, однако они случайно перепутались с новогодними обещаниями.\n",
        "\n",
        "Данные организованы в виде списка, состоящего из списков. Напишите программу, которая выводит на печать случайное предсказание, проверяя при этом, что строки, начинающиеся с фразы \"В новом году...\" не будут напечатаны.\n",
        "\n",
        "Хороший алгоритм: сначала удалить \"лишние\" новогодние обещания с помощью метода списков, затем напечатать случайное предсказание из оставшегося списка"
      ],
      "metadata": {
        "id": "m5ILtQY21S7Z"
      }
    },
    {
      "cell_type": "code",
      "execution_count": null,
      "metadata": {
        "id": "b7mUZqoB1INR",
        "colab": {
          "base_uri": "https://localhost:8080/"
        },
        "outputId": "a2292605-b08f-48b9-ffbc-35a840748f91"
      },
      "outputs": [
        {
          "output_type": "stream",
          "name": "stdout",
          "text": [
            "Через час  Вы снова проголодаетесь. Шоколад можно найти в магазине.\n"
          ]
        }
      ],
      "source": [
        "import random\n",
        "\n",
        "hse_prediction = [\n",
        "    ['Слушайте каждого. Идеи приходят отовсюду.'],\n",
        "    ['Скоро контрольная точка по нелюбимому предмету('],\n",
        "    ['В новом году обещаю себе смотреть не больше трех серий сериала за раз'],\n",
        "    ['Угостите преподавателя конфеткой!'],\n",
        "    ['Хорошие новости придут к вам по  Яндекс почте.'],\n",
        "    ['Что ни делается - все к лучшему, и даже первая пара, ожидающая Вас в обновлённом расписании.'],\n",
        "    ['Делайте то, чего просит душа и тело - не идите на пары!'],\n",
        "    ['Пора собирать чемоданы: Вас ждет экспедиция на Сахалин!'],\n",
        "    ['Пришло время сдать все долги.'],\n",
        "    ['Вы не получите автомат по физре в следующем полугодии.'],\n",
        "    ['В новом году обещаю себе спать'],\n",
        "    ['Если вы ждали знака - то ВОТ ОН! Срочно участвуйте в ближайшей конференции!'],\n",
        "    ['Вам повысят стипендию на 1000 рублей в этом году.'],\n",
        "    ['Ураааааааааааа! Завтра одни только  лекции!'],\n",
        "    ['Все лучшее происходит,когда Вас нет на паре!'],\n",
        "    ['На мобильность только в Питер'],\n",
        "    ['В новом году обещаю себе защитить диссертацию'],\n",
        "    ['В новом году обещаю себе запомнить имена одногруппников'],\n",
        "    ['Через час  Вы снова проголодаетесь. Шоколад можно найти в магазине.']\n",
        "        ]\n",
        "hse = []\n",
        "for i in range(len(hse_prediction)):\n",
        "    ans = \"\".join(hse_prediction[i])\n",
        "    if ans[:12] != \"В новом году\":\n",
        "        hse.append(ans)\n",
        "hs = random.randint(0,len(hse)-1)\n",
        "print(hse[hs])\n",
        "\n"
      ]
    },
    {
      "cell_type": "code",
      "source": [
        "hse = []\n",
        "for i in range(len(hse_prediction)):\n",
        "    ans = \"\".join(hse_prediction[i])\n",
        "    if ans[:12] != \"В новом году\":\n",
        "        hse.append(ans)\n",
        "hs = random.randint(0,len(hse)-1)\n",
        "print(hse[hs])\n"
      ],
      "metadata": {
        "id": "Y-MQ6mZ2qNac"
      },
      "execution_count": null,
      "outputs": []
    },
    {
      "cell_type": "markdown",
      "source": [
        "Алиса коллекционирует открыткм, которые она получила из разных стран от друзей. Она знает, что Мария прислала ей открытку из Лондона, Лоренцо -- из Милана, Олег - из Канберры, Ханс -- из Кальгари, Марк -- тоже из Милана, Алекс - из Кракова, и совсем недавно пришла открытка от Юлии из Мурманска.\n",
        "\n",
        "Сейчас ее архив выглядит вот так:"
      ],
      "metadata": {
        "id": "X0ZXZUuM1ebd"
      }
    },
    {
      "cell_type": "code",
      "source": [
        "postcards = {\n",
        "    \"Maria\": \"London\",\n",
        "    \"Lorenzo\": \"Milan\",\n",
        "    \"Oleg\": \"Canberra\",\n",
        "    \"Hans\": \"Calgary\",\n",
        "    \"Mark\": \"Milan\",\n",
        "    \"Alex\": \"Krakow\",\n",
        "    \"Julia\": \"Murmansk\"\n",
        "\n",
        "}"
      ],
      "metadata": {
        "id": "dCJHL83B1lAX"
      },
      "execution_count": null,
      "outputs": []
    },
    {
      "cell_type": "markdown",
      "source": [
        "Однажды Алиса показала Вам свою бумажную коллекцию, и Вы заметили неточности:\n",
        "\n",
        "в архиве не хватает двух открыток: от Петры из Парижа и от Ивана из Москвы. Добавьте их в архив Алисы.\n",
        "\n",
        "открытка, присланная Олегом на самом деле не из Канберры, а из Сиднея. Исправьте город на верный, изменив значение по ключу в словаре.\n",
        "\n",
        "Алиса говорит, что в ее коллекции более 10 уникальных городов. Сколько их на самом деле? Выведите названия этих городов."
      ],
      "metadata": {
        "id": "iBJdJoiT1nwW"
      }
    },
    {
      "cell_type": "code",
      "source": [
        "print(postcards.values())\n",
        "print(postcards.keys())"
      ],
      "metadata": {
        "colab": {
          "base_uri": "https://localhost:8080/"
        },
        "id": "2blKKmEOGEt1",
        "outputId": "8cf6aa0f-ca50-48ec-cc3f-eaed96a53e08"
      },
      "execution_count": null,
      "outputs": [
        {
          "output_type": "stream",
          "name": "stdout",
          "text": [
            "dict_values(['London', 'Milan', 'Canberra', 'Calgary', 'Milan', 'Krakow', 'Murmansk'])\n",
            "dict_keys(['Maria', 'Lorenzo', 'Oleg', 'Hans', 'Mark', 'Alex', 'Julia'])\n"
          ]
        }
      ]
    },
    {
      "cell_type": "code",
      "source": [
        "#добавление\n",
        "new= {\"Petra\":\"Paris\", \"Ivan\":\"Moscow\"}\n",
        "postcards.update(new)\n",
        "print(postcards)"
      ],
      "metadata": {
        "id": "xVqqWSkA1lxR",
        "colab": {
          "base_uri": "https://localhost:8080/"
        },
        "outputId": "dad6fb35-1fdf-4517-b09a-69ca5ae306da"
      },
      "execution_count": null,
      "outputs": [
        {
          "output_type": "stream",
          "name": "stdout",
          "text": [
            "{'Maria': 'London', 'Lorenzo': 'Milan', 'Oleg': 'Canberra', 'Hans': 'Calgary', 'Mark': 'Milan', 'Alex': 'Krakow', 'Julia': 'Murmansk', 'Petra': 'Paris', 'Ivan': 'Moscow'}\n"
          ]
        }
      ]
    },
    {
      "cell_type": "code",
      "source": [
        "#исправление\n",
        "postcards[\"Oleg\"]=\"Sidney\"\n",
        "print(postcards)"
      ],
      "metadata": {
        "colab": {
          "base_uri": "https://localhost:8080/"
        },
        "id": "vgu2epoBIkU6",
        "outputId": "481977bc-9e15-4d86-c3e2-08cf79c29510"
      },
      "execution_count": null,
      "outputs": [
        {
          "output_type": "stream",
          "name": "stdout",
          "text": [
            "{'Maria': 'London', 'Lorenzo': 'Milan', 'Oleg': 'Sidney', 'Hans': 'Calgary', 'Mark': 'Milan', 'Alex': 'Krakow', 'Julia': 'Murmansk', 'Petra': 'Paris', 'Ivan': 'Moscow'}\n"
          ]
        }
      ]
    },
    {
      "cell_type": "code",
      "source": [
        "#уникаьные города\n",
        "postcards_city=list(postcards.values())\n",
        "print(postcards_city)\n",
        "print(set(postcards_city))"
      ],
      "metadata": {
        "id": "avuBSYvw1opE",
        "colab": {
          "base_uri": "https://localhost:8080/"
        },
        "outputId": "b7b0b4c7-ae03-4e3d-d951-78e19f00f942"
      },
      "execution_count": null,
      "outputs": [
        {
          "output_type": "stream",
          "name": "stdout",
          "text": [
            "['London', 'Milan', 'Sidney', 'Calgary', 'Milan', 'Krakow', 'Murmansk', 'Paris', 'Moscow']\n",
            "{'Calgary', 'Milan', 'Moscow', 'Krakow', 'Sidney', 'London', 'Paris', 'Murmansk'}\n"
          ]
        }
      ]
    }
  ]
}